{
 "cells": [
  {
   "cell_type": "code",
   "execution_count": 3,
   "metadata": {
    "collapsed": true
   },
   "outputs": [],
   "source": [
    "import pandas as pd\n",
    "import seaborn as sns\n",
    "from matplotlib import pyplot as plt\n",
    "import numpy as np\n",
    "%matplotlib inline\n",
    "df=pd.read_csv(\"ds//iris-data.csv\")\n",
    "\n",
    "#Preprocessing the data\n",
    "df=df.dropna(subset=[\"petal_width_cm\"])\n",
    "df[\"class\"].replace(\"Iris-setossa\",\"Iris-setosa\",inplace=True)\n",
    "df[\"class\"].replace(\"versicolor\",\"Iris-versicolor\",inplace=True)\n",
    "\n",
    "\n",
    "X=df.iloc[:,:4]\n",
    "\n",
    "Y=df[\"class\"]\n",
    "\n",
    "#Splitting the dataset into train and test.\n",
    "from sklearn.model_selection import train_test_split\n",
    "X_train, X_test, y_train, y_test = train_test_split(X, Y, test_size = 0.20, random_state = 7)\n",
    "\n",
    "\n",
    "#Normalize the data \n",
    "from sklearn.preprocessing import StandardScaler\n",
    "sc = StandardScaler()\n",
    "X_train = sc.fit_transform(X_train)\n",
    "X_test = sc.transform(X_test)\n"
   ]
  },
  {
   "cell_type": "code",
   "execution_count": 4,
   "metadata": {},
   "outputs": [
    {
     "data": {
      "text/plain": [
       "AdaBoostClassifier(algorithm='SAMME.R', base_estimator=None,\n",
       "          learning_rate=1.0, n_estimators=50, random_state=None)"
      ]
     },
     "execution_count": 4,
     "metadata": {},
     "output_type": "execute_result"
    }
   ],
   "source": [
    "from sklearn.ensemble import AdaBoostClassifier\n",
    "classifier=AdaBoostClassifier()\n",
    "classifier.fit(X_train,y_train)\n"
   ]
  },
  {
   "cell_type": "code",
   "execution_count": 5,
   "metadata": {
    "collapsed": true
   },
   "outputs": [],
   "source": [
    "#Predict the X_test\n",
    "y_pred=classifier.predict(X_test)\n"
   ]
  },
  {
   "cell_type": "code",
   "execution_count": 6,
   "metadata": {},
   "outputs": [
    {
     "name": "stdout",
     "output_type": "stream",
     "text": [
      "0.931034482759\n"
     ]
    }
   ],
   "source": [
    "#Checking the accuracy.\n",
    "\n",
    "from sklearn.metrics import accuracy_score\n",
    "print(accuracy_score(y_test,y_pred))"
   ]
  },
  {
   "cell_type": "code",
   "execution_count": 8,
   "metadata": {},
   "outputs": [
    {
     "name": "stdout",
     "output_type": "stream",
     "text": [
      "0.931034482759\n"
     ]
    }
   ],
   "source": [
    "#preparing the parameters to tune it using gridSearchCV\n",
    "param_grid ={\n",
    "       'learning_rate':[.1,.2,.3,.4,.5],\n",
    "    \n",
    "      'n_estimators':[50,100,150,200,250]\n",
    "    }\n",
    "\n",
    "classifier=AdaBoostClassifier()\n",
    "from sklearn.model_selection import GridSearchCV\n",
    "grid_Search=GridSearchCV(classifier,param_grid=param_grid)\n",
    "grid_Search.fit(X_train,y_train)\n",
    "\n",
    "y_pred=grid_Search.predict(X_test)\n",
    "\n",
    "#Here you may not find the differences from the prepared model,but gridSearchCV useful when we have huge datasets and features. \n",
    "from sklearn.metrics import accuracy_score\n",
    "print(accuracy_score(y_test,y_pred))"
   ]
  },
  {
   "cell_type": "code",
   "execution_count": null,
   "metadata": {
    "collapsed": true
   },
   "outputs": [],
   "source": []
  }
 ],
 "metadata": {
  "kernelspec": {
   "display_name": "Python 3",
   "language": "python",
   "name": "python3"
  },
  "language_info": {
   "codemirror_mode": {
    "name": "ipython",
    "version": 3
   },
   "file_extension": ".py",
   "mimetype": "text/x-python",
   "name": "python",
   "nbconvert_exporter": "python",
   "pygments_lexer": "ipython3",
   "version": "3.6.1"
  }
 },
 "nbformat": 4,
 "nbformat_minor": 2
}
